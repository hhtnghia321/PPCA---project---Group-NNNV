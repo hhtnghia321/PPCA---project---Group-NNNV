{
  "nbformat": 4,
  "nbformat_minor": 0,
  "metadata": {
    "colab": {
      "name": "fillna_with_PPCA.ipynb",
      "provenance": [],
      "include_colab_link": true
    },
    "kernelspec": {
      "name": "python3",
      "display_name": "Python 3"
    }
  },
  "cells": [
    {
      "cell_type": "markdown",
      "metadata": {
        "id": "view-in-github",
        "colab_type": "text"
      },
      "source": [
        "<a href=\"https://colab.research.google.com/github/hhtnghia321/PPCA---project---Group-NNNV/blob/master/fillna_with_PPCA.ipynb\" target=\"_parent\"><img src=\"https://colab.research.google.com/assets/colab-badge.svg\" alt=\"Open In Colab\"/></a>"
      ]
    },
    {
      "cell_type": "code",
      "metadata": {
        "id": "3zetZP9-uwqq",
        "colab_type": "code",
        "colab": {}
      },
      "source": [
        "oridata_source = 'https://drive.google.com/u/1/uc?id=1iDCKJQbhoIp23YYZSmxRjub2b91TQmzJ&export=download'\n",
        "dataNA_source = 'https://drive.google.com/u/1/uc?id=1cz7oJ0BJR5rzH1dVTtq2SJPdhxFEYs9o&export=download'\n",
        "data_fillNA_source = 'https://drive.google.com/u/1/uc?id=1c6AAacF2piMdrvv6ZU5AwIHwXOo7xvJS&export=downloadd'\n",
        "pos_of_true_values = 'https://drive.google.com/u/1/uc?id=1B7VOB_qM08uRHWLFvhyd9Hq95CN0OcMz&export=download'"
      ],
      "execution_count": 0,
      "outputs": []
    },
    {
      "cell_type": "code",
      "metadata": {
        "id": "3ZsGvVkvzDqd",
        "colab_type": "code",
        "colab": {}
      },
      "source": [
        "import numpy as np\n",
        "import random\n",
        "import pandas as pd"
      ],
      "execution_count": 0,
      "outputs": []
    },
    {
      "cell_type": "code",
      "metadata": {
        "id": "JM_XUrXOL7au",
        "colab_type": "code",
        "colab": {}
      },
      "source": [
        "names = ['Sample_code_number', 'Clump_Thickness', 'Uniformity_of_Cell_Size', 'Uniformity_of_Cell_Shape',\n",
        "        'Marginal_Adhesion', 'Single_Epithelial_Cell_Size', 'Bare_Nuclei',\n",
        "        'Bland_Chromatin', 'Normal_Nucleoli', 'Mitoses', 'Class']\n",
        "ori_data = pd.read_csv(oridata_source, names=names, index_col = False, na_values = '?')\n",
        "ori_data.fillna(round(ori_data.mean()), inplace = True)\n",
        "mean_ori_data = ori_data.mean()[1:-1]\n",
        "ori_data = ori_data.drop(columns=['Sample_code_number', 'Class']).values"
      ],
      "execution_count": 0,
      "outputs": []
    },
    {
      "cell_type": "code",
      "metadata": {
        "id": "cmIAjVepzfmL",
        "colab_type": "code",
        "colab": {}
      },
      "source": [
        "names_ = ['Index', 'Clump_Thickness', 'Uniformity_of_Cell_Size', 'Uniformity_of_Cell_Shape',\n",
        "        'Marginal_Adhesion', 'Single_Epithelial_Cell_Size', 'Bare_Nuclei',\n",
        "        'Bland_Chromatin', 'Normal_Nucleoli', 'Mitoses']\n",
        "data = pd.read_csv(data_fillNA_source, index_col = False, names= names_)\n",
        "data.shape\n",
        "data = data.iloc[:,1:].values\n",
        "print(data.shape)"
      ],
      "execution_count": 0,
      "outputs": []
    },
    {
      "cell_type": "code",
      "metadata": {
        "id": "gKTigq980piq",
        "colab_type": "code",
        "colab": {}
      },
      "source": [
        "def PPCA(data, q, sigma_init = 1, EM = False):\n",
        "    N = data.shape[0]  # N row, N t_i\n",
        "    d = data.shape[1]  # d cột của data\n",
        "    mean = np.mean(data.T, axis=1) # mean vector\n",
        "    mean = np.array([mean]).T # chuyển vecto mean về vecto cột\n",
        "    S = (data.T -  mean).dot((data.T -  mean).T) / N # hiệp phương sai sample S\n",
        "    if EM == False:\n",
        "      eig_vals, eig_vecs = np.linalg.eig(S) # hàm riêng và trị riêng của S\n",
        "      # xếp các trị riêng hàm riêng tương ứng thành các tuple\n",
        "      eig_pairs = [(np.abs(eig_vals[i]), eig_vecs[:,i]) for i in range(len(eig_vals))]\n",
        "      # xếp lại theo thứ tự theo giá trị trị riêng\n",
        "      eig_pairs.sort() \n",
        "      eig_pairs.reverse()\n",
        "      # tìm MLE cho lambda\n",
        "      lambda_ = 0\n",
        "      for i in range(q, d):\n",
        "        lambda_ += eig_pairs[i][0]\n",
        "      sigma_ML = 1/(d-q)*lambda_\n",
        "      # tìm ma trận U_q\n",
        "      U_q = eig_pairs[0][1]\n",
        "      for i in range(1, q):\n",
        "        U_q = np.vstack((U_q, eig_pairs[i][1]))\n",
        "      U_q = U_q.T\n",
        "      # tìm ma trận Delta_q\n",
        "      eig_vals_for_delta = np.array(eig_pairs[0][0])\n",
        "      for i in range(1, q):\n",
        "        eig_vals_for_delta = np.append(eig_vals_for_delta, eig_pairs[i][0])\n",
        "      Delta_q = np.diag((eig_vals_for_delta))\n",
        "      # tính ma trận W với giả định R = I\n",
        "      W = np.matrix.round( U_q.dot(  np.sqrt(Delta_q - sigma_ML*np.identity(q)) ), 2 )\n",
        "    else:\n",
        "        sigma = sigma_init \n",
        "        W = np.random.rand(d, q)\n",
        "        while True:\n",
        "            M = W.T.dot(W) + sigma * np.identity(q)\n",
        "            M_inv = np.linalg.inv(M)\n",
        "    \n",
        "            W_ml = S.dot(W).dot(np.linalg.inv(sigma*np.identity(q) + M_inv.dot(W.T).dot(S).dot(W)))\n",
        "            sigma_ML = (1/d) * np.trace(S - S.dot(W).dot(M_inv).dot(W_ml.T))\n",
        "            sigma_ML = np.absolute(sigma_ML)\n",
        "            if abs((sigma - sigma_ML)) <= 0.00001:\n",
        "                break\n",
        "            W = W_ml\n",
        "            sigma = sigma_ML\n",
        "    return (W, sigma_ML, mean)"
      ],
      "execution_count": 0,
      "outputs": []
    },
    {
      "cell_type": "code",
      "metadata": {
        "id": "uVIwRdYf1MLO",
        "colab_type": "code",
        "colab": {}
      },
      "source": [
        "W_ML = PPCA(data, 2, EM=True)\n",
        "W = W_ML[0]\n",
        "t_n = (W.dot(np.linalg.inv(W.T.dot(W))).dot(W.T).dot(data.T)).T\n",
        "#t_n = t_n.T\n",
        "t_n.shape"
      ],
      "execution_count": 0,
      "outputs": []
    },
    {
      "cell_type": "code",
      "metadata": {
        "id": "yLUhdzV7Q0D6",
        "colab_type": "code",
        "colab": {}
      },
      "source": [
        "ori_data"
      ],
      "execution_count": 0,
      "outputs": []
    },
    {
      "cell_type": "code",
      "metadata": {
        "id": "3F4ZBeTKdfxS",
        "colab_type": "code",
        "colab": {}
      },
      "source": [
        ""
      ],
      "execution_count": 0,
      "outputs": []
    },
    {
      "cell_type": "code",
      "metadata": {
        "id": "YI_zxSuJP_fr",
        "colab_type": "code",
        "colab": {}
      },
      "source": [
        "pos = pd.read_csv(pos_of_true_values, index_col=False)\n",
        "pos = pos.iloc[:, 1:]\n",
        "pos.iloc[:, 0]\n",
        "result_ML = [] \n",
        "result_mean = []\n",
        "for i in range(0, pos.shape[1]):\n",
        "  error_ML = []\n",
        "  error_mean = []\n",
        "  for item in pos.iloc[:, i]:\n",
        "    error_ML.append((ori_data[item,i] - t_n[item,i])**2)\n",
        "    error_mean.append((ori_data[item,i] - mean_ori_data[i])**2)\n",
        "  result_ML.append((sum(error_ML)/50)**0.5)\n",
        "  result_mean.append((sum(error_mean)/50)**0.5)\n",
        "\n",
        "print(result_ML)\n",
        "print(result_mean)\n"
      ],
      "execution_count": 0,
      "outputs": []
    },
    {
      "cell_type": "markdown",
      "metadata": {
        "id": "jkHQipxTr9VT",
        "colab_type": "text"
      },
      "source": [
        "##Compared Calculation between MLE (closed form) and EM algorithm for PCA\n"
      ]
    },
    {
      "cell_type": "code",
      "metadata": {
        "id": "3pSFKXCTsxy9",
        "colab_type": "code",
        "outputId": "a9ae6d2f-9f01-49b5-be4e-bb69787203f3",
        "colab": {
          "base_uri": "https://localhost:8080/",
          "height": 51
        }
      },
      "source": [
        "%time \n",
        "EM = PPCA(data, 3, EM=True)"
      ],
      "execution_count": 0,
      "outputs": [
        {
          "output_type": "stream",
          "text": [
            "CPU times: user 3 µs, sys: 0 ns, total: 3 µs\n",
            "Wall time: 5.25 µs\n"
          ],
          "name": "stdout"
        }
      ]
    },
    {
      "cell_type": "code",
      "metadata": {
        "id": "rmqpo_ems97S",
        "colab_type": "code",
        "outputId": "14666c0e-3670-4711-d2a3-7f0fb98edb25",
        "colab": {
          "base_uri": "https://localhost:8080/",
          "height": 51
        }
      },
      "source": [
        "%time \n",
        "MLE = PPCA(data, 3)"
      ],
      "execution_count": 0,
      "outputs": [
        {
          "output_type": "stream",
          "text": [
            "CPU times: user 1 µs, sys: 1e+03 ns, total: 2 µs\n",
            "Wall time: 4.53 µs\n"
          ],
          "name": "stdout"
        }
      ]
    },
    {
      "cell_type": "markdown",
      "metadata": {
        "id": "wctR6Eia_kSR",
        "colab_type": "text"
      },
      "source": [
        "##Compare PCA with PPCA (with missing value)\n",
        "*in this section, we try to illustrate how good EM of PPCA to reconduct missing value"
      ]
    },
    {
      "cell_type": "code",
      "metadata": {
        "id": "Tz8Ko5b14kSi",
        "colab_type": "code",
        "outputId": "0fd8b4fe-e46f-450e-d1ac-eef59f205da6",
        "colab": {
          "base_uri": "https://localhost:8080/",
          "height": 136
        }
      },
      "source": [
        "from sklearn.decomposition import  PCA\n",
        "pca= PCA(2, random_state=2020)\n",
        "pca.fit(data)\n",
        "pca_comps = pca.components_\n",
        "pca_data = pca_comps.dot(data.transpose()).transpose()\n",
        "pca_data"
      ],
      "execution_count": 0,
      "outputs": [
        {
          "output_type": "execute_result",
          "data": {
            "text/plain": [
              "array([[ 4.90678866,  0.27009041],\n",
              "       [13.23332924, -5.29317358],\n",
              "       [ 5.54514462, -0.06107697],\n",
              "       ...,\n",
              "       [16.84522538,  6.3071654 ],\n",
              "       [14.59057013,  2.49647452],\n",
              "       [16.42327784,  2.61090331]])"
            ]
          },
          "metadata": {
            "tags": []
          },
          "execution_count": 98
        }
      ]
    },
    {
      "cell_type": "code",
      "metadata": {
        "id": "6VK61L39ABoK",
        "colab_type": "code",
        "colab": {}
      },
      "source": [
        "data_miss = pd.read_csv(dataNA_source,na_values=\"?\")\n",
        "data_miss.fillna(data_miss.mean()).iloc[:,1:].values\n",
        "ppca_comp_miss = PPCA(data_miss, 2,EM=True)"
      ],
      "execution_count": 0,
      "outputs": []
    },
    {
      "cell_type": "code",
      "metadata": {
        "id": "INPA8DebX8KR",
        "colab_type": "code",
        "colab": {}
      },
      "source": [
        "import seaborn as sns\n",
        "import matplotlib.pyplot as plt\n"
      ],
      "execution_count": 0,
      "outputs": []
    }
  ]
}
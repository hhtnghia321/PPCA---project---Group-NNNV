{
  "nbformat": 4,
  "nbformat_minor": 0,
  "metadata": {
    "colab": {
      "name": "fillna_with_PPCA.ipynb",
      "provenance": [],
      "include_colab_link": true
    },
    "kernelspec": {
      "name": "python3",
      "display_name": "Python 3"
    }
  },
  "cells": [
    {
      "cell_type": "markdown",
      "metadata": {
        "id": "view-in-github",
        "colab_type": "text"
      },
      "source": [
        "<a href=\"https://colab.research.google.com/github/hhtnghia321/PPCA---project---Group-NNNV/blob/master/fillna_with_PPCA.ipynb\" target=\"_parent\"><img src=\"https://colab.research.google.com/assets/colab-badge.svg\" alt=\"Open In Colab\"/></a>"
      ]
    },
    {
      "cell_type": "markdown",
      "metadata": {
        "id": "vhEF_ZBp-G8f",
        "colab_type": "text"
      },
      "source": [
        "##Loading the Dataset"
      ]
    },
    {
      "cell_type": "code",
      "metadata": {
        "id": "3ZsGvVkvzDqd",
        "colab_type": "code",
        "colab": {}
      },
      "source": [
        "import numpy as np\n",
        "import random\n",
        "import pandas as pd"
      ],
      "execution_count": 0,
      "outputs": []
    },
    {
      "cell_type": "code",
      "metadata": {
        "id": "3zetZP9-uwqq",
        "colab_type": "code",
        "colab": {}
      },
      "source": [
        "oridata_source = 'https://drive.google.com/u/1/uc?id=1iDCKJQbhoIp23YYZSmxRjub2b91TQmzJ&export=download'\n",
        "dataNA_source = 'https://drive.google.com/u/1/uc?id=1cz7oJ0BJR5rzH1dVTtq2SJPdhxFEYs9o&export=download'\n",
        "data_fillNA_source = 'https://drive.google.com/u/1/uc?id=1c6AAacF2piMdrvv6ZU5AwIHwXOo7xvJS&export=downloadd'\n",
        "pos_of_true_values = 'https://drive.google.com/u/1/uc?id=1B7VOB_qM08uRHWLFvhyd9Hq95CN0OcMz&export=download'"
      ],
      "execution_count": 0,
      "outputs": []
    },
    {
      "cell_type": "code",
      "metadata": {
        "id": "JM_XUrXOL7au",
        "colab_type": "code",
        "colab": {}
      },
      "source": [
        "names = ['Sample_code_number', 'Clump_Thickness', 'Uniformity_of_Cell_Size', 'Uniformity_of_Cell_Shape',\n",
        "        'Marginal_Adhesion', 'Single_Epithelial_Cell_Size', 'Bare_Nuclei',\n",
        "        'Bland_Chromatin', 'Normal_Nucleoli', 'Mitoses', 'Class']\n",
        "ori_data = pd.read_csv(oridata_source, names=names, index_col = False, na_values = '?')\n",
        "ori_data.fillna(round(ori_data.mean()), inplace = True)\n",
        "mean_ori_data = ori_data.mean()[1:-1]\n",
        "ori_data = ori_data.drop(columns=['Sample_code_number', 'Class']).values"
      ],
      "execution_count": 0,
      "outputs": []
    },
    {
      "cell_type": "code",
      "metadata": {
        "id": "cmIAjVepzfmL",
        "colab_type": "code",
        "outputId": "7e3615ab-4f3b-4032-9e86-46d3d2c6404c",
        "colab": {
          "base_uri": "https://localhost:8080/",
          "height": 34
        }
      },
      "source": [
        "names_ = ['Index', 'Clump_Thickness', 'Uniformity_of_Cell_Size', 'Uniformity_of_Cell_Shape',\n",
        "        'Marginal_Adhesion', 'Single_Epithelial_Cell_Size', 'Bare_Nuclei',\n",
        "        'Bland_Chromatin', 'Normal_Nucleoli', 'Mitoses']\n",
        "data = pd.read_csv(data_fillNA_source, index_col = False, names= names_)\n",
        "data.shape\n",
        "data = data.iloc[:,1:].values\n",
        "print(data.shape)"
      ],
      "execution_count": 8,
      "outputs": [
        {
          "output_type": "stream",
          "text": [
            "(699, 9)\n"
          ],
          "name": "stdout"
        }
      ]
    },
    {
      "cell_type": "code",
      "metadata": {
        "id": "FmkC3sH3-ZTr",
        "colab_type": "code",
        "colab": {
          "base_uri": "https://localhost:8080/",
          "height": 34
        },
        "outputId": "9e660032-07d7-4244-b979-aa9d1692e056"
      },
      "source": [
        "data_miss = pd.read_csv(dataNA_source,na_values=\"?\")\n",
        "sum(pd.isna(data_miss).iloc[:,1:].values)"
      ],
      "execution_count": 51,
      "outputs": [
        {
          "output_type": "execute_result",
          "data": {
            "text/plain": [
              "array([50, 50, 50, 50, 50, 64, 50, 50, 50])"
            ]
          },
          "metadata": {
            "tags": []
          },
          "execution_count": 51
        }
      ]
    },
    {
      "cell_type": "markdown",
      "metadata": {
        "id": "0_DnGSPj-fm_",
        "colab_type": "text"
      },
      "source": [
        "* Missing dataset contains 50 missing value each featuer"
      ]
    },
    {
      "cell_type": "markdown",
      "metadata": {
        "id": "Fc5XtjhxqstU",
        "colab_type": "text"
      },
      "source": [
        "###Fill na with position matrix"
      ]
    },
    {
      "cell_type": "code",
      "metadata": {
        "id": "mCpvqHIRqsCB",
        "colab_type": "code",
        "colab": {}
      },
      "source": [
        "def fillna_with_posmatrix(data_miss, data, pos_ma):\n",
        "    data_miss = np.array(data_miss)\n",
        "    data = np.array(data)\n",
        "    pos_ma = np.array(pos_ma)\n",
        "    indeces = np.where(pos_ma == True)\n",
        "    data_miss[indeces] = data[indeces]\n",
        "    return data_miss"
      ],
      "execution_count": 0,
      "outputs": []
    },
    {
      "cell_type": "markdown",
      "metadata": {
        "id": "_B-fqJ93qxSb",
        "colab_type": "text"
      },
      "source": [
        "### Probabilistic PPCA function"
      ]
    },
    {
      "cell_type": "code",
      "metadata": {
        "id": "gKTigq980piq",
        "colab_type": "code",
        "colab": {}
      },
      "source": [
        "def PPCA1(data, q, sigma_init = 1, EM = False, pos_na = None): #pos_na là ma trận chứa vị trí của missing value\n",
        "    N = data.shape[0]  # N row, N t_i\n",
        "    d = data.shape[1]  # d cột của data\n",
        "    mean = np.mean(data.T, axis=1) # mean vector\n",
        "    mean = np.array([mean]).T # chuyển vecto mean về vecto cột\n",
        "    if EM == False and pos_na == None: #vì MLE không nhận được missing value\n",
        "      S = (data.T -  mean).dot((data.T -  mean).T) / N # hiệp phương sai sample S\n",
        "      eig_vals, eig_vecs = np.linalg.eig(S) # hàm riêng và trị riêng của S\n",
        "      # xếp các trị riêng hàm riêng tương ứng thành các tuple\n",
        "      eig_pairs = [(np.abs(eig_vals[i]), eig_vecs[:,i]) for i in range(len(eig_vals))]\n",
        "      # xếp lại theo thứ tự theo giá trị trị riêng\n",
        "      eig_pairs.sort() \n",
        "      eig_pairs.reverse()\n",
        "      # tìm MLE cho lambda\n",
        "      lambda_ = 0\n",
        "      for i in range(q, d):\n",
        "        lambda_ += eig_pairs[i][0]\n",
        "      sigma_ML = 1/(d-q)*lambda_\n",
        "      # tìm ma trận U_q\n",
        "      U_q = eig_pairs[0][1]\n",
        "      for i in range(1, q):\n",
        "        U_q = np.vstack((U_q, eig_pairs[i][1]))\n",
        "      U_q = U_q.T\n",
        "      # tìm ma trận Delta_q\n",
        "      eig_vals_for_delta = np.array(eig_pairs[0][0])\n",
        "      for i in range(1, q):\n",
        "        eig_vals_for_delta = np.append(eig_vals_for_delta, eig_pairs[i][0])\n",
        "      Delta_q = np.diag((eig_vals_for_delta))\n",
        "      # tính ma trận W với giả định R = I\n",
        "      W = np.matrix.round( U_q.dot(  np.sqrt(Delta_q - sigma_ML*np.identity(q)) ), 2 )\n",
        "    else:\n",
        "        sigma = sigma_init \n",
        "        W = np.random.rand(d, q)\n",
        "        while True:\n",
        "            S = (data.T -  mean).dot((data.T -  mean).T) / N # hiệp phương sai sample S\n",
        "            M = W.T.dot(W) + sigma * np.identity(q)\n",
        "            M_inv = np.linalg.inv(M)    \n",
        "            W_ml = S.dot(W).dot(np.linalg.inv(sigma*np.identity(q) + M_inv.dot(W.T).dot(S).dot(W)))\n",
        "            sigma_ML = (1/d) * np.trace(S - S.dot(W).dot(M_inv).dot(W_ml.T))\n",
        "            sigma_ML = np.absolute(sigma_ML)\n",
        "            if abs((sigma - sigma_ML)) <= 0.00000001:\n",
        "                break\n",
        "            W = W_ml\n",
        "            sigma = sigma_ML\n",
        "            if isinstance(pos_na, list):\n",
        "                WtW_inv = np.linalg.inv(W.T.dot(W))\n",
        "                data_hat = W.dot(WtW_inv).dot(W.T).dot(data.T).T #estimate data mới\n",
        "                data = fillna_with_posmatrix(data, data_hat, pos_na) #chỉ update những vị trí bị thiếu\n",
        "        R_T = np.linalg.svd(W.T.dot(W))[0]\n",
        "        W = W.dot(R_T.T)\n",
        "    return (W, sigma_ML, mean, data)"
      ],
      "execution_count": 0,
      "outputs": []
    },
    {
      "cell_type": "code",
      "metadata": {
        "id": "uVIwRdYf1MLO",
        "colab_type": "code",
        "outputId": "e8cfb0ff-0df1-46f9-b0b4-5313b86e6ec7",
        "colab": {
          "base_uri": "https://localhost:8080/",
          "height": 34
        }
      },
      "source": [
        "W_ML = PPCA1(data, 2, EM=True)\n",
        "W = W_ML[0]\n",
        "t_n = (W.dot(np.linalg.inv(W.T.dot(W))).dot(W.T).dot(data.T)).T\n",
        "#t_n = t_n.T\n",
        "t_n.shape"
      ],
      "execution_count": 14,
      "outputs": [
        {
          "output_type": "execute_result",
          "data": {
            "text/plain": [
              "(699, 9)"
            ]
          },
          "metadata": {
            "tags": []
          },
          "execution_count": 14
        }
      ]
    },
    {
      "cell_type": "code",
      "metadata": {
        "id": "yLUhdzV7Q0D6",
        "colab_type": "code",
        "colab": {}
      },
      "source": [
        "ori_data"
      ],
      "execution_count": 0,
      "outputs": []
    },
    {
      "cell_type": "code",
      "metadata": {
        "id": "YI_zxSuJP_fr",
        "colab_type": "code",
        "colab": {}
      },
      "source": [
        "pos = pd.read_csv(pos_of_true_values, index_col=False)\n",
        "pos = pos.iloc[:, 1:]\n",
        "pos.iloc[:, 0]\n",
        "result_ML = [] \n",
        "result_mean = []\n",
        "for i in range(0, pos.shape[1]):\n",
        "  error_ML = []\n",
        "  error_mean = []\n",
        "  for item in pos.iloc[:, i]:\n",
        "    error_ML.append((ori_data[item,i] - t_n[item,i])**2)\n",
        "    error_mean.append((ori_data[item,i] - mean_ori_data[i])**2)\n",
        "  result_ML.append((sum(error_ML)/50)**0.5)\n",
        "  result_mean.append((sum(error_mean)/50)**0.5)\n",
        "\n",
        "print(result_ML)\n",
        "print(result_mean)\n"
      ],
      "execution_count": 0,
      "outputs": []
    },
    {
      "cell_type": "markdown",
      "metadata": {
        "id": "jkHQipxTr9VT",
        "colab_type": "text"
      },
      "source": [
        "##Compared Calculation between MLE (closed form) and EM algorithm for PCA\n"
      ]
    },
    {
      "cell_type": "code",
      "metadata": {
        "id": "3pSFKXCTsxy9",
        "colab_type": "code",
        "colab": {}
      },
      "source": [
        "%time \n",
        "EM = PPCA(data, 3, EM=True)"
      ],
      "execution_count": 0,
      "outputs": []
    },
    {
      "cell_type": "code",
      "metadata": {
        "id": "rmqpo_ems97S",
        "colab_type": "code",
        "colab": {}
      },
      "source": [
        "%time \n",
        "MLE = PPCA(data, 3)"
      ],
      "execution_count": 0,
      "outputs": []
    },
    {
      "cell_type": "markdown",
      "metadata": {
        "id": "wctR6Eia_kSR",
        "colab_type": "text"
      },
      "source": [
        "##Compare PCA with PPCA (with missing value)\n",
        "*in this section, we try to illustrate how good EM of PPCA to reconduct missing value"
      ]
    },
    {
      "cell_type": "code",
      "metadata": {
        "id": "Tz8Ko5b14kSi",
        "colab_type": "code",
        "outputId": "5d7e804b-297d-4a4d-9208-19fc082d38f7",
        "colab": {
          "base_uri": "https://localhost:8080/",
          "height": 419
        }
      },
      "source": [
        "from sklearn.decomposition import  PCA\n",
        "pca= PCA(2, random_state=2020)\n",
        "pca.fit(data)\n",
        "pca_comps = pca.components_ # W.T\n",
        "pca_data = pd.DataFrame(pca_comps.dot(data.T).T)\n",
        "pca_data"
      ],
      "execution_count": 16,
      "outputs": [
        {
          "output_type": "execute_result",
          "data": {
            "text/html": [
              "<div>\n",
              "<style scoped>\n",
              "    .dataframe tbody tr th:only-of-type {\n",
              "        vertical-align: middle;\n",
              "    }\n",
              "\n",
              "    .dataframe tbody tr th {\n",
              "        vertical-align: top;\n",
              "    }\n",
              "\n",
              "    .dataframe thead th {\n",
              "        text-align: right;\n",
              "    }\n",
              "</style>\n",
              "<table border=\"1\" class=\"dataframe\">\n",
              "  <thead>\n",
              "    <tr style=\"text-align: right;\">\n",
              "      <th></th>\n",
              "      <th>0</th>\n",
              "      <th>1</th>\n",
              "    </tr>\n",
              "  </thead>\n",
              "  <tbody>\n",
              "    <tr>\n",
              "      <th>0</th>\n",
              "      <td>4.906789</td>\n",
              "      <td>0.270090</td>\n",
              "    </tr>\n",
              "    <tr>\n",
              "      <th>1</th>\n",
              "      <td>13.233329</td>\n",
              "      <td>-5.293174</td>\n",
              "    </tr>\n",
              "    <tr>\n",
              "      <th>2</th>\n",
              "      <td>5.545145</td>\n",
              "      <td>-0.061077</td>\n",
              "    </tr>\n",
              "    <tr>\n",
              "      <th>3</th>\n",
              "      <td>14.462263</td>\n",
              "      <td>3.551708</td>\n",
              "    </tr>\n",
              "    <tr>\n",
              "      <th>4</th>\n",
              "      <td>5.275929</td>\n",
              "      <td>0.262592</td>\n",
              "    </tr>\n",
              "    <tr>\n",
              "      <th>...</th>\n",
              "      <td>...</td>\n",
              "      <td>...</td>\n",
              "    </tr>\n",
              "    <tr>\n",
              "      <th>694</th>\n",
              "      <td>5.213932</td>\n",
              "      <td>0.187989</td>\n",
              "    </tr>\n",
              "    <tr>\n",
              "      <th>695</th>\n",
              "      <td>4.096420</td>\n",
              "      <td>0.326727</td>\n",
              "    </tr>\n",
              "    <tr>\n",
              "      <th>696</th>\n",
              "      <td>16.845225</td>\n",
              "      <td>6.307165</td>\n",
              "    </tr>\n",
              "    <tr>\n",
              "      <th>697</th>\n",
              "      <td>14.590570</td>\n",
              "      <td>2.496475</td>\n",
              "    </tr>\n",
              "    <tr>\n",
              "      <th>698</th>\n",
              "      <td>16.423278</td>\n",
              "      <td>2.610903</td>\n",
              "    </tr>\n",
              "  </tbody>\n",
              "</table>\n",
              "<p>699 rows × 2 columns</p>\n",
              "</div>"
            ],
            "text/plain": [
              "             0         1\n",
              "0     4.906789  0.270090\n",
              "1    13.233329 -5.293174\n",
              "2     5.545145 -0.061077\n",
              "3    14.462263  3.551708\n",
              "4     5.275929  0.262592\n",
              "..         ...       ...\n",
              "694   5.213932  0.187989\n",
              "695   4.096420  0.326727\n",
              "696  16.845225  6.307165\n",
              "697  14.590570  2.496475\n",
              "698  16.423278  2.610903\n",
              "\n",
              "[699 rows x 2 columns]"
            ]
          },
          "metadata": {
            "tags": []
          },
          "execution_count": 16
        }
      ]
    },
    {
      "cell_type": "code",
      "metadata": {
        "id": "6VK61L39ABoK",
        "colab_type": "code",
        "outputId": "ab4a8d2d-3fbe-4dd9-a9eb-0a20071401df",
        "colab": {
          "base_uri": "https://localhost:8080/",
          "height": 419
        }
      },
      "source": [
        "data_miss = pd.read_csv(dataNA_source,na_values=\"?\")\n",
        "pos_na = pd.isna(data_miss).iloc[:,1:].values\n",
        "data_miss1 = data_miss.iloc[:,1:].values\n",
        "data_miss_filled = data_miss.fillna(0).iloc[:,1:].values\n",
        "ppca_miss = PPCA1(data_miss_filled, 2,EM=True,pos_na= pos_na)\n",
        "ppca_comp_miss = ppca_miss[0].T # W\n",
        "data_compl = ppca_miss[3]\n",
        "ppca_data_miss = pd.DataFrame(ppca_comp_miss.dot(data_compl.T - ppca_miss[2]).T)*(-1)\n",
        "ppca_data_miss[1] = ppca_data_miss[1]*[-1]\n",
        "ppca_data_miss"
      ],
      "execution_count": 42,
      "outputs": [
        {
          "output_type": "execute_result",
          "data": {
            "text/html": [
              "<div>\n",
              "<style scoped>\n",
              "    .dataframe tbody tr th:only-of-type {\n",
              "        vertical-align: middle;\n",
              "    }\n",
              "\n",
              "    .dataframe tbody tr th {\n",
              "        vertical-align: top;\n",
              "    }\n",
              "\n",
              "    .dataframe thead th {\n",
              "        text-align: right;\n",
              "    }\n",
              "</style>\n",
              "<table border=\"1\" class=\"dataframe\">\n",
              "  <thead>\n",
              "    <tr style=\"text-align: right;\">\n",
              "      <th></th>\n",
              "      <th>0</th>\n",
              "      <th>1</th>\n",
              "    </tr>\n",
              "  </thead>\n",
              "  <tbody>\n",
              "    <tr>\n",
              "      <th>0</th>\n",
              "      <td>-24.424403</td>\n",
              "      <td>1.110515</td>\n",
              "    </tr>\n",
              "    <tr>\n",
              "      <th>1</th>\n",
              "      <td>24.633398</td>\n",
              "      <td>-9.732973</td>\n",
              "    </tr>\n",
              "    <tr>\n",
              "      <th>2</th>\n",
              "      <td>-27.883107</td>\n",
              "      <td>-1.196112</td>\n",
              "    </tr>\n",
              "    <tr>\n",
              "      <th>3</th>\n",
              "      <td>32.066244</td>\n",
              "      <td>5.584401</td>\n",
              "    </tr>\n",
              "    <tr>\n",
              "      <th>4</th>\n",
              "      <td>-22.083418</td>\n",
              "      <td>0.222112</td>\n",
              "    </tr>\n",
              "    <tr>\n",
              "      <th>...</th>\n",
              "      <td>...</td>\n",
              "      <td>...</td>\n",
              "    </tr>\n",
              "    <tr>\n",
              "      <th>694</th>\n",
              "      <td>-30.116356</td>\n",
              "      <td>-1.172196</td>\n",
              "    </tr>\n",
              "    <tr>\n",
              "      <th>695</th>\n",
              "      <td>-36.090979</td>\n",
              "      <td>0.216912</td>\n",
              "    </tr>\n",
              "    <tr>\n",
              "      <th>696</th>\n",
              "      <td>44.142067</td>\n",
              "      <td>9.048228</td>\n",
              "    </tr>\n",
              "    <tr>\n",
              "      <th>697</th>\n",
              "      <td>29.964809</td>\n",
              "      <td>2.416319</td>\n",
              "    </tr>\n",
              "    <tr>\n",
              "      <th>698</th>\n",
              "      <td>37.601175</td>\n",
              "      <td>8.162317</td>\n",
              "    </tr>\n",
              "  </tbody>\n",
              "</table>\n",
              "<p>699 rows × 2 columns</p>\n",
              "</div>"
            ],
            "text/plain": [
              "             0         1\n",
              "0   -24.424403  1.110515\n",
              "1    24.633398 -9.732973\n",
              "2   -27.883107 -1.196112\n",
              "3    32.066244  5.584401\n",
              "4   -22.083418  0.222112\n",
              "..         ...       ...\n",
              "694 -30.116356 -1.172196\n",
              "695 -36.090979  0.216912\n",
              "696  44.142067  9.048228\n",
              "697  29.964809  2.416319\n",
              "698  37.601175  8.162317\n",
              "\n",
              "[699 rows x 2 columns]"
            ]
          },
          "metadata": {
            "tags": []
          },
          "execution_count": 42
        }
      ]
    },
    {
      "cell_type": "code",
      "metadata": {
        "id": "INPA8DebX8KR",
        "colab_type": "code",
        "outputId": "0a3397a3-2907-4f23-c39a-dd4c3d9aa2c8",
        "colab": {
          "base_uri": "https://localhost:8080/",
          "height": 584
        }
      },
      "source": [
        "import seaborn as sns\n",
        "import matplotlib.pyplot as plt\n",
        "plt.figure(figsize = (18,9))\n",
        "plt.tight_layout()\n",
        "plt.subplot(1,2,1)\n",
        "sns.scatterplot(x = 0, y = 1, data= pca_data, )\n",
        "plt.title(\"Full PCA\")\n",
        "plt.subplot(1,2,2)\n",
        "sns.scatterplot(x = 0, y = 1, data= ppca_data_miss)\n",
        "plt.title(\"Missing PPCA\")"
      ],
      "execution_count": 50,
      "outputs": [
        {
          "output_type": "execute_result",
          "data": {
            "text/plain": [
              "Text(0.5, 1.0, 'Missing PPCA')"
            ]
          },
          "metadata": {
            "tags": []
          },
          "execution_count": 50
        },
        {
          "output_type": "display_data",
          "data": {
            "image/png": "[encoded data removed]",
            "text/plain": [
              "<Figure size 1296x648 with 2 Axes>"
            ]
          },
          "metadata": {
            "tags": [],
            "needs_background": "light"
          }
        }
      ]
    }
  ]
}
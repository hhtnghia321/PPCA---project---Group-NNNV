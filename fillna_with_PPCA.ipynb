{
  "nbformat": 4,
  "nbformat_minor": 0,
  "metadata": {
    "colab": {
      "name": "fillna_with_PPCA.ipynb",
      "provenance": [],
      "include_colab_link": true
    },
    "kernelspec": {
      "name": "python3",
      "display_name": "Python 3"
    }
  },
  "cells": [
    {
      "cell_type": "markdown",
      "metadata": {
        "id": "view-in-github",
        "colab_type": "text"
      },
      "source": [
        "<a href=\"https://colab.research.google.com/github/hhtnghia321/PPCA---project---Group-NNNV/blob/master/fillna_with_PPCA.ipynb\" target=\"_parent\"><img src=\"https://colab.research.google.com/assets/colab-badge.svg\" alt=\"Open In Colab\"/></a>"
      ]
    },
    {
      "cell_type": "code",
      "metadata": {
        "id": "3zetZP9-uwqq",
        "colab_type": "code",
        "colab": {}
      },
      "source": [
        "oridata_source = 'https://drive.google.com/u/1/uc?id=1iDCKJQbhoIp23YYZSmxRjub2b91TQmzJ&export=download'\n",
        "dataNA_source = 'https://drive.google.com/u/1/uc?id=1cz7oJ0BJR5rzH1dVTtq2SJPdhxFEYs9o&export=download'\n",
        "data_fillNA_source = 'https://drive.google.com/u/1/uc?id=1c6AAacF2piMdrvv6ZU5AwIHwXOo7xvJS&export=downloadd'\n",
        "pos_of_true_values = 'https://drive.google.com/u/1/uc?id=1B7VOB_qM08uRHWLFvhyd9Hq95CN0OcMz&export=download'"
      ],
      "execution_count": 0,
      "outputs": []
    },
    {
      "cell_type": "code",
      "metadata": {
        "id": "3ZsGvVkvzDqd",
        "colab_type": "code",
        "colab": {}
      },
      "source": [
        "import numpy as np\n",
        "import random\n",
        "import pandas as pd"
      ],
      "execution_count": 0,
      "outputs": []
    },
    {
      "cell_type": "code",
      "metadata": {
        "id": "JM_XUrXOL7au",
        "colab_type": "code",
        "colab": {}
      },
      "source": [
        "names = ['Sample_code_number', 'Clump_Thickness', 'Uniformity_of_Cell_Size', 'Uniformity_of_Cell_Shape',\n",
        "        'Marginal_Adhesion', 'Single_Epithelial_Cell_Size', 'Bare_Nuclei',\n",
        "        'Bland_Chromatin', 'Normal_Nucleoli', 'Mitoses', 'Class']\n",
        "ori_data = pd.read_csv(oridata_source, names=names, index_col = False, na_values = '?')\n",
        "ori_data.fillna(round(ori_data.mean()), inplace = True)\n",
        "mean_ori_data = ori_data.mean()[1:-1]\n",
        "ori_data = ori_data.drop(columns=['Sample_code_number', 'Class']).values"
      ],
      "execution_count": 0,
      "outputs": []
    },
    {
      "cell_type": "code",
      "metadata": {
        "id": "cmIAjVepzfmL",
        "colab_type": "code",
        "colab": {
          "base_uri": "https://localhost:8080/",
          "height": 34
        },
        "outputId": "68f1ceb7-8a7d-448e-9f4a-61faf9d9a380"
      },
      "source": [
        "names_ = ['Index', 'Clump_Thickness', 'Uniformity_of_Cell_Size', 'Uniformity_of_Cell_Shape',\n",
        "        'Marginal_Adhesion', 'Single_Epithelial_Cell_Size', 'Bare_Nuclei',\n",
        "        'Bland_Chromatin', 'Normal_Nucleoli', 'Mitoses']\n",
        "data = pd.read_csv(data_fillNA_source, index_col = False, names= names_)\n",
        "data.shape\n",
        "data = data.iloc[:,1:].values\n",
        "print(data.shape)"
      ],
      "execution_count": 4,
      "outputs": [
        {
          "output_type": "stream",
          "text": [
            "(699, 9)\n"
          ],
          "name": "stdout"
        }
      ]
    },
    {
      "cell_type": "markdown",
      "metadata": {
        "id": "Fc5XtjhxqstU",
        "colab_type": "text"
      },
      "source": [
        "###Fill na with position matrix"
      ]
    },
    {
      "cell_type": "code",
      "metadata": {
        "id": "mCpvqHIRqsCB",
        "colab_type": "code",
        "colab": {}
      },
      "source": [
        "def fillna_with_posmatrix(data_miss, data, pos_ma):\n",
        "    data_miss = np.array(data_miss)\n",
        "    data = np.array(data)\n",
        "    pos_ma = np.array(pos_ma)\n",
        "    indeces = np.where(pos_ma == True)\n",
        "    data_miss[indeces] = data[indeces]\n",
        "    return data_miss"
      ],
      "execution_count": 0,
      "outputs": []
    },
    {
      "cell_type": "markdown",
      "metadata": {
        "id": "_B-fqJ93qxSb",
        "colab_type": "text"
      },
      "source": [
        "### Probabilistic PPCA function"
      ]
    },
    {
      "cell_type": "code",
      "metadata": {
        "id": "gKTigq980piq",
        "colab_type": "code",
        "colab": {}
      },
      "source": [
        "def PPCA1(data, q, sigma_init = 1, EM = False, pos_na = None): #pos_na là ma trận chứa vị trí của missing value\n",
        "    N = data.shape[0]  # N row, N t_i\n",
        "    d = data.shape[1]  # d cột của data\n",
        "    mean = np.mean(data.T, axis=1) # mean vector\n",
        "    mean = np.array([mean]).T # chuyển vecto mean về vecto cột\n",
        "    if EM == False and pos_na == None: #vì MLE không nhận được missing value\n",
        "      S = (data.T -  mean).dot((data.T -  mean).T) / N # hiệp phương sai sample S\n",
        "      eig_vals, eig_vecs = np.linalg.eig(S) # hàm riêng và trị riêng của S\n",
        "      # xếp các trị riêng hàm riêng tương ứng thành các tuple\n",
        "      eig_pairs = [(np.abs(eig_vals[i]), eig_vecs[:,i]) for i in range(len(eig_vals))]\n",
        "      # xếp lại theo thứ tự theo giá trị trị riêng\n",
        "      eig_pairs.sort() \n",
        "      eig_pairs.reverse()\n",
        "      # tìm MLE cho lambda\n",
        "      lambda_ = 0\n",
        "      for i in range(q, d):\n",
        "        lambda_ += eig_pairs[i][0]\n",
        "      sigma_ML = 1/(d-q)*lambda_\n",
        "      # tìm ma trận U_q\n",
        "      U_q = eig_pairs[0][1]\n",
        "      for i in range(1, q):\n",
        "        U_q = np.vstack((U_q, eig_pairs[i][1]))\n",
        "      U_q = U_q.T\n",
        "      # tìm ma trận Delta_q\n",
        "      eig_vals_for_delta = np.array(eig_pairs[0][0])\n",
        "      for i in range(1, q):\n",
        "        eig_vals_for_delta = np.append(eig_vals_for_delta, eig_pairs[i][0])\n",
        "      Delta_q = np.diag((eig_vals_for_delta))\n",
        "      # tính ma trận W với giả định R = I\n",
        "      W = np.matrix.round( U_q.dot(  np.sqrt(Delta_q - sigma_ML*np.identity(q)) ), 2 )\n",
        "    else:\n",
        "        sigma = sigma_init \n",
        "        W = np.random.rand(d, q)\n",
        "        while True:\n",
        "            S = (data.T -  mean).dot((data.T -  mean).T) / N # hiệp phương sai sample S\n",
        "            M = W.T.dot(W) + sigma * np.identity(q)\n",
        "            M_inv = np.linalg.inv(M)    \n",
        "            W_ml = S.dot(W).dot(np.linalg.inv(sigma*np.identity(q) + M_inv.dot(W.T).dot(S).dot(W)))\n",
        "            sigma_ML = (1/d) * np.trace(S - S.dot(W).dot(M_inv).dot(W_ml.T))\n",
        "            sigma_ML = np.absolute(sigma_ML)\n",
        "            if abs((sigma - sigma_ML)) <= 0.1:\n",
        "                break\n",
        "            W = W_ml\n",
        "            sigma = sigma_ML\n",
        "            #WtW_inv = np.linalg.inv(W.T.dot(W))\n",
        "            #data_hat = W.dot(WtW_inv).dot(W.T).dot(data.T).T\n",
        "            #data = fillna_with_posmatrix(data, data_hat, pos_na)\n",
        "    return (W, sigma_ML, mean, data)"
      ],
      "execution_count": 0,
      "outputs": []
    },
    {
      "cell_type": "code",
      "metadata": {
        "id": "uVIwRdYf1MLO",
        "colab_type": "code",
        "colab": {
          "base_uri": "https://localhost:8080/",
          "height": 34
        },
        "outputId": "fe7ddc1b-78e9-47b0-fb0a-64a57dbf6a51"
      },
      "source": [
        "W_ML = PPCA(data, 2, EM=True)\n",
        "W = W_ML[0]\n",
        "t_n = (W.dot(np.linalg.inv(W.T.dot(W))).dot(W.T).dot(data.T)).T\n",
        "#t_n = t_n.T\n",
        "t_n.shape"
      ],
      "execution_count": 6,
      "outputs": [
        {
          "output_type": "execute_result",
          "data": {
            "text/plain": [
              "(699, 9)"
            ]
          },
          "metadata": {
            "tags": []
          },
          "execution_count": 6
        }
      ]
    },
    {
      "cell_type": "code",
      "metadata": {
        "id": "yLUhdzV7Q0D6",
        "colab_type": "code",
        "colab": {
          "base_uri": "https://localhost:8080/",
          "height": 136
        },
        "outputId": "47bc8d31-8782-41d5-87d1-5bbee93f777a"
      },
      "source": [
        "ori_data"
      ],
      "execution_count": 7,
      "outputs": [
        {
          "output_type": "execute_result",
          "data": {
            "text/plain": [
              "array([[ 5.,  1.,  1., ...,  3.,  1.,  1.],\n",
              "       [ 5.,  4.,  4., ...,  3.,  2.,  1.],\n",
              "       [ 3.,  1.,  1., ...,  3.,  1.,  1.],\n",
              "       ...,\n",
              "       [ 5., 10., 10., ...,  8., 10.,  2.],\n",
              "       [ 4.,  8.,  6., ..., 10.,  6.,  1.],\n",
              "       [ 4.,  8.,  8., ..., 10.,  4.,  1.]])"
            ]
          },
          "metadata": {
            "tags": []
          },
          "execution_count": 7
        }
      ]
    },
    {
      "cell_type": "code",
      "metadata": {
        "id": "YI_zxSuJP_fr",
        "colab_type": "code",
        "colab": {
          "base_uri": "https://localhost:8080/",
          "height": 71
        },
        "outputId": "82715509-9002-4b64-c991-01a1f6feba4f"
      },
      "source": [
        "pos = pd.read_csv(pos_of_true_values, index_col=False)\n",
        "pos = pos.iloc[:, 1:]\n",
        "pos.iloc[:, 0]\n",
        "result_ML = [] \n",
        "result_mean = []\n",
        "for i in range(0, pos.shape[1]):\n",
        "  error_ML = []\n",
        "  error_mean = []\n",
        "  for item in pos.iloc[:, i]:\n",
        "    error_ML.append((ori_data[item,i] - t_n[item,i])**2)\n",
        "    error_mean.append((ori_data[item,i] - mean_ori_data[i])**2)\n",
        "  result_ML.append((sum(error_ML)/50)**0.5)\n",
        "  result_mean.append((sum(error_mean)/50)**0.5)\n",
        "\n",
        "print(result_ML)\n",
        "print(result_mean)\n"
      ],
      "execution_count": 8,
      "outputs": [
        {
          "output_type": "stream",
          "text": [
            "[2.773287625396221, 1.3043938077268507, 1.545238478360944, 1.5849731831397584, 1.931062761135311, 2.9494234644365998, 1.696274989649703, 2.3615497896336115, 1.174058503169452]\n",
            "[2.945853751027545, 3.0741436146760237, 2.8817562112352446, 2.4285418249196296, 2.4269644805677304, 2.8942028113456657, 2.339117217762626, 3.21688441461498, 1.1197143134556156]\n"
          ],
          "name": "stdout"
        }
      ]
    },
    {
      "cell_type": "markdown",
      "metadata": {
        "id": "jkHQipxTr9VT",
        "colab_type": "text"
      },
      "source": [
        "##Compared Calculation between MLE (closed form) and EM algorithm for PCA\n"
      ]
    },
    {
      "cell_type": "code",
      "metadata": {
        "id": "3pSFKXCTsxy9",
        "colab_type": "code",
        "outputId": "97f1d6af-88ce-406d-860f-c791ccd4c9b1",
        "colab": {
          "base_uri": "https://localhost:8080/",
          "height": 51
        }
      },
      "source": [
        "%time \n",
        "EM = PPCA(data, 3, EM=True)"
      ],
      "execution_count": 9,
      "outputs": [
        {
          "output_type": "stream",
          "text": [
            "CPU times: user 2 µs, sys: 0 ns, total: 2 µs\n",
            "Wall time: 6.91 µs\n"
          ],
          "name": "stdout"
        }
      ]
    },
    {
      "cell_type": "code",
      "metadata": {
        "id": "rmqpo_ems97S",
        "colab_type": "code",
        "outputId": "d051200a-bcbb-4fe0-efd8-e891be2f59f2",
        "colab": {
          "base_uri": "https://localhost:8080/",
          "height": 51
        }
      },
      "source": [
        "%time \n",
        "MLE = PPCA(data, 3)"
      ],
      "execution_count": 10,
      "outputs": [
        {
          "output_type": "stream",
          "text": [
            "CPU times: user 3 µs, sys: 0 ns, total: 3 µs\n",
            "Wall time: 6.2 µs\n"
          ],
          "name": "stdout"
        }
      ]
    },
    {
      "cell_type": "markdown",
      "metadata": {
        "id": "wctR6Eia_kSR",
        "colab_type": "text"
      },
      "source": [
        "##Compare PCA with PPCA (with missing value)\n",
        "*in this section, we try to illustrate how good EM of PPCA to reconduct missing value"
      ]
    },
    {
      "cell_type": "code",
      "metadata": {
        "id": "Tz8Ko5b14kSi",
        "colab_type": "code",
        "outputId": "8f23763d-fe30-41b3-ff0e-f812971b1411",
        "colab": {
          "base_uri": "https://localhost:8080/",
          "height": 419
        }
      },
      "source": [
        "from sklearn.decomposition import  PCA\n",
        "pca= PCA(2, random_state=2020)\n",
        "pca.fit(data)\n",
        "pca_comps = pca.components_\n",
        "pca_data = pd.DataFrame(pca_comps.dot(data.transpose()).transpose())\n",
        "pca_data"
      ],
      "execution_count": 109,
      "outputs": [
        {
          "output_type": "execute_result",
          "data": {
            "text/html": [
              "<div>\n",
              "<style scoped>\n",
              "    .dataframe tbody tr th:only-of-type {\n",
              "        vertical-align: middle;\n",
              "    }\n",
              "\n",
              "    .dataframe tbody tr th {\n",
              "        vertical-align: top;\n",
              "    }\n",
              "\n",
              "    .dataframe thead th {\n",
              "        text-align: right;\n",
              "    }\n",
              "</style>\n",
              "<table border=\"1\" class=\"dataframe\">\n",
              "  <thead>\n",
              "    <tr style=\"text-align: right;\">\n",
              "      <th></th>\n",
              "      <th>0</th>\n",
              "      <th>1</th>\n",
              "    </tr>\n",
              "  </thead>\n",
              "  <tbody>\n",
              "    <tr>\n",
              "      <th>0</th>\n",
              "      <td>4.907832</td>\n",
              "      <td>0.216081</td>\n",
              "    </tr>\n",
              "    <tr>\n",
              "      <th>1</th>\n",
              "      <td>11.566675</td>\n",
              "      <td>-5.228271</td>\n",
              "    </tr>\n",
              "    <tr>\n",
              "      <th>2</th>\n",
              "      <td>5.057733</td>\n",
              "      <td>-0.440343</td>\n",
              "    </tr>\n",
              "    <tr>\n",
              "      <th>3</th>\n",
              "      <td>14.464847</td>\n",
              "      <td>3.418346</td>\n",
              "    </tr>\n",
              "    <tr>\n",
              "      <th>4</th>\n",
              "      <td>5.276080</td>\n",
              "      <td>0.268428</td>\n",
              "    </tr>\n",
              "    <tr>\n",
              "      <th>...</th>\n",
              "      <td>...</td>\n",
              "      <td>...</td>\n",
              "    </tr>\n",
              "    <tr>\n",
              "      <th>694</th>\n",
              "      <td>5.214952</td>\n",
              "      <td>0.149614</td>\n",
              "    </tr>\n",
              "    <tr>\n",
              "      <th>695</th>\n",
              "      <td>4.096269</td>\n",
              "      <td>0.359210</td>\n",
              "    </tr>\n",
              "    <tr>\n",
              "      <th>696</th>\n",
              "      <td>16.849735</td>\n",
              "      <td>6.240454</td>\n",
              "    </tr>\n",
              "    <tr>\n",
              "      <th>697</th>\n",
              "      <td>14.592020</td>\n",
              "      <td>2.478905</td>\n",
              "    </tr>\n",
              "    <tr>\n",
              "      <th>698</th>\n",
              "      <td>16.424595</td>\n",
              "      <td>2.602572</td>\n",
              "    </tr>\n",
              "  </tbody>\n",
              "</table>\n",
              "<p>699 rows × 2 columns</p>\n",
              "</div>"
            ],
            "text/plain": [
              "             0         1\n",
              "0     4.907832  0.216081\n",
              "1    11.566675 -5.228271\n",
              "2     5.057733 -0.440343\n",
              "3    14.464847  3.418346\n",
              "4     5.276080  0.268428\n",
              "..         ...       ...\n",
              "694   5.214952  0.149614\n",
              "695   4.096269  0.359210\n",
              "696  16.849735  6.240454\n",
              "697  14.592020  2.478905\n",
              "698  16.424595  2.602572\n",
              "\n",
              "[699 rows x 2 columns]"
            ]
          },
          "metadata": {
            "tags": []
          },
          "execution_count": 109
        }
      ]
    },
    {
      "cell_type": "code",
      "metadata": {
        "id": "6VK61L39ABoK",
        "colab_type": "code",
        "colab": {
          "base_uri": "https://localhost:8080/",
          "height": 419
        },
        "outputId": "125716fb-38d2-4b12-b0bb-6930ac8047a6"
      },
      "source": [
        "data_miss = pd.read_csv(dataNA_source,na_values=\"?\")\n",
        "pos_na = pd.isna(data_miss).iloc[:,1:].values\n",
        "data_miss1 = data_miss.iloc[:,1:].values\n",
        "data_miss_filled = data_miss.fillna(0).iloc[:,1:].values\n",
        "ppca_miss = PPCA1(data_miss_filled, 2,EM=True,pos_na= pos_na)\n",
        "ppca_comp_miss = ppca_miss[0].T\n",
        "data_compl = ppca_miss[3]\n",
        "ppca_data_miss = pd.DataFrame(ppca_comp_miss.dot(data_compl.T).T)\n",
        "ppca_data_miss\n"
      ],
      "execution_count": 110,
      "outputs": [
        {
          "output_type": "execute_result",
          "data": {
            "text/html": [
              "<div>\n",
              "<style scoped>\n",
              "    .dataframe tbody tr th:only-of-type {\n",
              "        vertical-align: middle;\n",
              "    }\n",
              "\n",
              "    .dataframe tbody tr th {\n",
              "        vertical-align: top;\n",
              "    }\n",
              "\n",
              "    .dataframe thead th {\n",
              "        text-align: right;\n",
              "    }\n",
              "</style>\n",
              "<table border=\"1\" class=\"dataframe\">\n",
              "  <thead>\n",
              "    <tr style=\"text-align: right;\">\n",
              "      <th></th>\n",
              "      <th>0</th>\n",
              "      <th>1</th>\n",
              "    </tr>\n",
              "  </thead>\n",
              "  <tbody>\n",
              "    <tr>\n",
              "      <th>0</th>\n",
              "      <td>9.842203</td>\n",
              "      <td>20.171754</td>\n",
              "    </tr>\n",
              "    <tr>\n",
              "      <th>1</th>\n",
              "      <td>21.584772</td>\n",
              "      <td>55.073616</td>\n",
              "    </tr>\n",
              "    <tr>\n",
              "      <th>2</th>\n",
              "      <td>10.411160</td>\n",
              "      <td>20.753501</td>\n",
              "    </tr>\n",
              "    <tr>\n",
              "      <th>3</th>\n",
              "      <td>34.885698</td>\n",
              "      <td>57.239074</td>\n",
              "    </tr>\n",
              "    <tr>\n",
              "      <th>4</th>\n",
              "      <td>11.366755</td>\n",
              "      <td>21.173386</td>\n",
              "    </tr>\n",
              "    <tr>\n",
              "      <th>...</th>\n",
              "      <td>...</td>\n",
              "      <td>...</td>\n",
              "    </tr>\n",
              "    <tr>\n",
              "      <th>694</th>\n",
              "      <td>9.610780</td>\n",
              "      <td>19.290597</td>\n",
              "    </tr>\n",
              "    <tr>\n",
              "      <th>695</th>\n",
              "      <td>7.754750</td>\n",
              "      <td>13.843449</td>\n",
              "    </tr>\n",
              "    <tr>\n",
              "      <th>696</th>\n",
              "      <td>49.764842</td>\n",
              "      <td>71.603812</td>\n",
              "    </tr>\n",
              "    <tr>\n",
              "      <th>697</th>\n",
              "      <td>39.483807</td>\n",
              "      <td>61.960652</td>\n",
              "    </tr>\n",
              "    <tr>\n",
              "      <th>698</th>\n",
              "      <td>39.958396</td>\n",
              "      <td>61.489752</td>\n",
              "    </tr>\n",
              "  </tbody>\n",
              "</table>\n",
              "<p>699 rows × 2 columns</p>\n",
              "</div>"
            ],
            "text/plain": [
              "             0          1\n",
              "0     9.842203  20.171754\n",
              "1    21.584772  55.073616\n",
              "2    10.411160  20.753501\n",
              "3    34.885698  57.239074\n",
              "4    11.366755  21.173386\n",
              "..         ...        ...\n",
              "694   9.610780  19.290597\n",
              "695   7.754750  13.843449\n",
              "696  49.764842  71.603812\n",
              "697  39.483807  61.960652\n",
              "698  39.958396  61.489752\n",
              "\n",
              "[699 rows x 2 columns]"
            ]
          },
          "metadata": {
            "tags": []
          },
          "execution_count": 110
        }
      ]
    },
    {
      "cell_type": "code",
      "metadata": {
        "id": "INPA8DebX8KR",
        "colab_type": "code",
        "colab": {
          "base_uri": "https://localhost:8080/",
          "height": 299
        },
        "outputId": "b1cc56fc-2e57-4b5b-ce06-a90b833b9eb3"
      },
      "source": [
        "import seaborn as sns\n",
        "import matplotlib.pyplot as plt\n",
        "plt.subplot(1,2,1)\n",
        "sns.scatterplot(x = 0, y = 1, data= pca_data)\n",
        "\n",
        "plt.subplot(1,2,2)\n",
        "sns.scatterplot(x = 0, y = 1, data= ppca_data_miss)"
      ],
      "execution_count": 112,
      "outputs": [
        {
          "output_type": "execute_result",
          "data": {
            "text/plain": [
              "<matplotlib.axes._subplots.AxesSubplot at 0x7fcd3cb71f28>"
            ]
          },
          "metadata": {
            "tags": []
          },
          "execution_count": 112
        },
        {
          "output_type": "display_data",
          "data": {
            "image/png": "[encoded data removed]",
            "text/plain": [
              "<Figure size 432x288 with 2 Axes>"
            ]
          },
          "metadata": {
            "tags": [],
            "needs_background": "light"
          }
        }
      ]
    },
    {
      "cell_type": "code",
      "metadata": {
        "id": "n6MG_aqlxpd3",
        "colab_type": "code",
        "colab": {
          "base_uri": "https://localhost:8080/",
          "height": 136
        },
        "outputId": "7e630e41-02b2-4ea3-ea6d-b8036beb55f6"
      },
      "source": [
        "data"
      ],
      "execution_count": 102,
      "outputs": [
        {
          "output_type": "execute_result",
          "data": {
            "text/plain": [
              "array([[ 5.,  1.,  1., ...,  3.,  1.,  1.],\n",
              "       [ 5.,  4.,  4., ...,  3.,  2.,  1.],\n",
              "       [ 3.,  1.,  3., ...,  3.,  1.,  1.],\n",
              "       ...,\n",
              "       [ 5., 10.,  3., ...,  8., 10.,  2.],\n",
              "       [ 4.,  8.,  3., ..., 10.,  6.,  1.],\n",
              "       [ 4.,  8.,  8., ..., 10.,  4.,  1.]])"
            ]
          },
          "metadata": {
            "tags": []
          },
          "execution_count": 102
        }
      ]
    }
  ]
}